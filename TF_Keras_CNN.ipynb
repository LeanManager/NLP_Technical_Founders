{
 "cells": [
  {
   "cell_type": "markdown",
   "metadata": {},
   "source": [
    "# Convolutional Neural Networks\n",
    "\n",
    "This tutorial demonstrates training a simple Convolutional Neural Network (CNN) to classify MNIST digits. This network will achieve over 99% accuracy on the MNIST test set. Because this tutorial uses the Keras Sequential API, creating and training our model will take just a few lines of code."
   ]
  },
  {
   "cell_type": "markdown",
   "metadata": {},
   "source": [
    "## Import TensorFlow"
   ]
  },
  {
   "cell_type": "code",
   "execution_count": 1,
   "metadata": {},
   "outputs": [
    {
     "name": "stdout",
     "output_type": "stream",
     "text": [
      "Collecting tensorflow-gpu==2.0.0-alpha0\n",
      "  Downloading https://files.pythonhosted.org/packages/a3/a1/adff98d96de3d623f53f2e002d6e5b3936857c168a99efa632b7db89da05/tensorflow_gpu-2.0.0a0-cp37-cp37m-win_amd64.whl (258.4MB)\n",
      "Requirement already satisfied: six>=1.10.0 in c:\\users\\carlosai\\anaconda3\\envs\\tfalpha\\lib\\site-packages (from tensorflow-gpu==2.0.0-alpha0) (1.12.0)\n",
      "Collecting tf-estimator-nightly<1.14.0.dev2019030116,>=1.14.0.dev2019030115 (from tensorflow-gpu==2.0.0-alpha0)\n",
      "  Downloading https://files.pythonhosted.org/packages/13/82/f16063b4eed210dc2ab057930ac1da4fbe1e91b7b051a6c8370b401e6ae7/tf_estimator_nightly-1.14.0.dev2019030115-py2.py3-none-any.whl (411kB)\n",
      "Collecting astor>=0.6.0 (from tensorflow-gpu==2.0.0-alpha0)\n",
      "  Using cached https://files.pythonhosted.org/packages/35/6b/11530768cac581a12952a2aad00e1526b89d242d0b9f59534ef6e6a1752f/astor-0.7.1-py2.py3-none-any.whl\n",
      "Collecting tb-nightly<1.14.0a20190302,>=1.14.0a20190301 (from tensorflow-gpu==2.0.0-alpha0)\n",
      "  Downloading https://files.pythonhosted.org/packages/a9/51/aa1d756644bf4624c03844115e4ac4058eff77acd786b26315f051a4b195/tb_nightly-1.14.0a20190301-py3-none-any.whl (3.0MB)\n",
      "Collecting termcolor>=1.1.0 (from tensorflow-gpu==2.0.0-alpha0)\n",
      "Collecting google-pasta>=0.1.2 (from tensorflow-gpu==2.0.0-alpha0)\n",
      "  Using cached https://files.pythonhosted.org/packages/8c/96/adbd4eafe72ce9b5ca6f168fbf109386e1b601f7c59926a11e9d7b7a5b44/google_pasta-0.1.4-py3-none-any.whl\n",
      "Collecting keras-applications>=1.0.6 (from tensorflow-gpu==2.0.0-alpha0)\n",
      "  Using cached https://files.pythonhosted.org/packages/90/85/64c82949765cfb246bbdaf5aca2d55f400f792655927a017710a78445def/Keras_Applications-1.0.7-py2.py3-none-any.whl\n",
      "Collecting gast>=0.2.0 (from tensorflow-gpu==2.0.0-alpha0)\n",
      "Collecting numpy<2.0,>=1.14.5 (from tensorflow-gpu==2.0.0-alpha0)\n",
      "  Using cached https://files.pythonhosted.org/packages/3a/3c/515afabfe4f29bfc0a67037efaf518c33d0076b32d22ba865241cee295c4/numpy-1.16.2-cp37-cp37m-win_amd64.whl\n",
      "Requirement already satisfied: wheel>=0.26 in c:\\users\\carlosai\\anaconda3\\envs\\tfalpha\\lib\\site-packages (from tensorflow-gpu==2.0.0-alpha0) (0.33.1)\n",
      "Collecting keras-preprocessing>=1.0.5 (from tensorflow-gpu==2.0.0-alpha0)\n",
      "  Using cached https://files.pythonhosted.org/packages/c0/bf/0315ef6a9fd3fc2346e85b0ff1f5f83ca17073f2c31ac719ab2e4da0d4a3/Keras_Preprocessing-1.0.9-py2.py3-none-any.whl\n",
      "Collecting protobuf>=3.6.1 (from tensorflow-gpu==2.0.0-alpha0)\n",
      "  Downloading https://files.pythonhosted.org/packages/34/ef/f020691889031a8e1d8cb20711daa43cfe999e0768ff6903c4bf70c2eecd/protobuf-3.7.1-cp37-cp37m-win_amd64.whl (986kB)\n",
      "Collecting grpcio>=1.8.6 (from tensorflow-gpu==2.0.0-alpha0)\n",
      "  Using cached https://files.pythonhosted.org/packages/9c/50/1fd6e3cb2cc0b9f88aa396020b0a831a2e8fb63a4479d1dfb4ae64b654bf/grpcio-1.19.0-cp37-cp37m-win_amd64.whl\n",
      "Collecting absl-py>=0.7.0 (from tensorflow-gpu==2.0.0-alpha0)\n",
      "  Downloading https://files.pythonhosted.org/packages/da/3f/9b0355080b81b15ba6a9ffcf1f5ea39e307a2778b2f2dc8694724e8abd5b/absl-py-0.7.1.tar.gz (99kB)\n",
      "Collecting markdown>=2.6.8 (from tb-nightly<1.14.0a20190302,>=1.14.0a20190301->tensorflow-gpu==2.0.0-alpha0)\n",
      "  Downloading https://files.pythonhosted.org/packages/f5/e4/d8c18f2555add57ff21bf25af36d827145896a07607486cc79a2aea641af/Markdown-3.1-py2.py3-none-any.whl (87kB)\n",
      "Collecting werkzeug>=0.11.15 (from tb-nightly<1.14.0a20190302,>=1.14.0a20190301->tensorflow-gpu==2.0.0-alpha0)\n",
      "  Downloading https://files.pythonhosted.org/packages/24/4d/2fc4e872fbaaf44cc3fd5a9cd42fda7e57c031f08e28c9f35689e8b43198/Werkzeug-0.15.1-py2.py3-none-any.whl (328kB)\n",
      "Collecting h5py (from keras-applications>=1.0.6->tensorflow-gpu==2.0.0-alpha0)\n",
      "  Using cached https://files.pythonhosted.org/packages/4f/1e/89aa610afce8df6fd1f12647600a05e902238587ae6375442a3164b59d51/h5py-2.9.0-cp37-cp37m-win_amd64.whl\n",
      "Requirement already satisfied: setuptools in c:\\users\\carlosai\\anaconda3\\envs\\tfalpha\\lib\\site-packages (from protobuf>=3.6.1->tensorflow-gpu==2.0.0-alpha0) (40.8.0)\n",
      "Building wheels for collected packages: absl-py\n",
      "  Building wheel for absl-py (setup.py): started\n",
      "  Building wheel for absl-py (setup.py): finished with status 'done'\n",
      "  Stored in directory: C:\\Users\\CarlosAI\\AppData\\Local\\pip\\Cache\\wheels\\ee\\98\\38\\46cbcc5a93cfea5492d19c38562691ddb23b940176c14f7b48\n",
      "Successfully built absl-py\n",
      "Installing collected packages: tf-estimator-nightly, astor, numpy, absl-py, protobuf, markdown, grpcio, werkzeug, tb-nightly, termcolor, google-pasta, h5py, keras-applications, gast, keras-preprocessing, tensorflow-gpu\n",
      "Successfully installed absl-py-0.7.1 astor-0.7.1 gast-0.2.2 google-pasta-0.1.4 grpcio-1.19.0 h5py-2.9.0 keras-applications-1.0.7 keras-preprocessing-1.0.9 markdown-3.1 numpy-1.16.2 protobuf-3.7.1 tb-nightly-1.14.0a20190301 tensorflow-gpu-2.0.0a0 termcolor-1.1.0 tf-estimator-nightly-1.14.0.dev2019030115 werkzeug-0.15.1\n"
     ]
    }
   ],
   "source": [
    "!pip install tensorflow-gpu==2.0.0-alpha0\n",
    "\n",
    "import tensorflow as tf\n",
    "\n",
    "from tensorflow.keras import datasets, layers, models"
   ]
  },
  {
   "cell_type": "markdown",
   "metadata": {},
   "source": [
    "## Download and prepare the MNIST dataset"
   ]
  },
  {
   "cell_type": "code",
   "execution_count": 2,
   "metadata": {},
   "outputs": [
    {
     "name": "stdout",
     "output_type": "stream",
     "text": [
      "Downloading data from https://storage.googleapis.com/tensorflow/tf-keras-datasets/mnist.npz\n",
      "11493376/11490434 [==============================] - 0s 0us/step\n"
     ]
    }
   ],
   "source": [
    "(train_images, train_labels), (test_images, test_labels) = datasets.mnist.load_data()\n",
    "\n",
    "train_images = train_images.reshape((60000, 28, 28, 1))\n",
    "test_images = test_images.reshape((10000, 28, 28, 1))\n",
    "\n",
    "# Normalize pixel values to be between 0 and 1\n",
    "train_images, test_images = train_images / 255.0, test_images / 255.0"
   ]
  },
  {
   "cell_type": "markdown",
   "metadata": {},
   "source": [
    "## Create the convolutional base\n",
    "\n",
    "The code below defines the convolutional base using a common pattern: a stack of Conv2D and MaxPooling2D layers.\n",
    "\n",
    "As input, a CNN takes tensors of shape (image_height, image_width, color_channels), ignoring the batch size. If you are new to color channels, MNIST has one (because the images are grayscale), whereas a color image has three (R,G,B). In this example, we will configure our CNN to process inputs of shape (28, 28, 1), which is the format of MNIST images. We do this by passing the argument input_shape to our first layer."
   ]
  },
  {
   "cell_type": "code",
   "execution_count": 3,
   "metadata": {},
   "outputs": [],
   "source": [
    "model = models.Sequential()\n",
    "\n",
    "model.add(layers.Conv2D(32, (3, 3), activation='relu', input_shape=(28, 28, 1)))\n",
    "model.add(layers.MaxPooling2D((2, 2)))\n",
    "\n",
    "model.add(layers.Conv2D(64, (3, 3), activation='relu'))\n",
    "model.add(layers.MaxPooling2D((2, 2)))\n",
    "\n",
    "model.add(layers.Conv2D(64, (3, 3), activation='relu'))"
   ]
  },
  {
   "cell_type": "markdown",
   "metadata": {},
   "source": [
    "Let display the architecture of our model so far."
   ]
  },
  {
   "cell_type": "code",
   "execution_count": 4,
   "metadata": {},
   "outputs": [
    {
     "name": "stdout",
     "output_type": "stream",
     "text": [
      "Model: \"sequential\"\n",
      "_________________________________________________________________\n",
      "Layer (type)                 Output Shape              Param #   \n",
      "=================================================================\n",
      "conv2d (Conv2D)              (None, 26, 26, 32)        320       \n",
      "_________________________________________________________________\n",
      "max_pooling2d (MaxPooling2D) (None, 13, 13, 32)        0         \n",
      "_________________________________________________________________\n",
      "conv2d_1 (Conv2D)            (None, 11, 11, 64)        18496     \n",
      "_________________________________________________________________\n",
      "max_pooling2d_1 (MaxPooling2 (None, 5, 5, 64)          0         \n",
      "_________________________________________________________________\n",
      "conv2d_2 (Conv2D)            (None, 3, 3, 64)          36928     \n",
      "=================================================================\n",
      "Total params: 55,744\n",
      "Trainable params: 55,744\n",
      "Non-trainable params: 0\n",
      "_________________________________________________________________\n"
     ]
    }
   ],
   "source": [
    "model.summary()"
   ]
  },
  {
   "cell_type": "markdown",
   "metadata": {},
   "source": [
    "Above, you can see that the output of every Conv2D and MaxPooling2D layer is a 3D tensor of shape (height, width, channels). The width and height dimensions tend to shrink as we go deeper in the network. The number of output channels for each Conv2D layer is controlled by the first argument (e.g., 32 or 64). Typically, as the width and height shrink, we can afford (computationally) to add more output channels in each Conv2D layer."
   ]
  },
  {
   "cell_type": "markdown",
   "metadata": {},
   "source": [
    "## Add Dense layers on top\n",
    "\n",
    "To complete our model, we will feed the last output tensor from the convolutional base (of shape (3, 3, 64)) into one or more Dense layers to perform classification. Dense layers take vectors as input (which are 1D), while the current output is a 3D tensor. First, we will flatten (or unroll) the 3D output to 1D, then add one or more Dense layers on top. MNIST has 10 output classes, so we use a final Dense layer with 10 outputs and a softmax activation."
   ]
  },
  {
   "cell_type": "code",
   "execution_count": 5,
   "metadata": {},
   "outputs": [],
   "source": [
    "model.add(layers.Flatten())\n",
    "\n",
    "model.add(layers.Dense(64, activation='relu'))\n",
    "\n",
    "model.add(layers.Dense(10, activation='softmax'))"
   ]
  },
  {
   "cell_type": "markdown",
   "metadata": {},
   "source": [
    "Here's the complete architecture of our model."
   ]
  },
  {
   "cell_type": "code",
   "execution_count": 6,
   "metadata": {},
   "outputs": [
    {
     "name": "stdout",
     "output_type": "stream",
     "text": [
      "Model: \"sequential\"\n",
      "_________________________________________________________________\n",
      "Layer (type)                 Output Shape              Param #   \n",
      "=================================================================\n",
      "conv2d (Conv2D)              (None, 26, 26, 32)        320       \n",
      "_________________________________________________________________\n",
      "max_pooling2d (MaxPooling2D) (None, 13, 13, 32)        0         \n",
      "_________________________________________________________________\n",
      "conv2d_1 (Conv2D)            (None, 11, 11, 64)        18496     \n",
      "_________________________________________________________________\n",
      "max_pooling2d_1 (MaxPooling2 (None, 5, 5, 64)          0         \n",
      "_________________________________________________________________\n",
      "conv2d_2 (Conv2D)            (None, 3, 3, 64)          36928     \n",
      "_________________________________________________________________\n",
      "flatten (Flatten)            (None, 576)               0         \n",
      "_________________________________________________________________\n",
      "dense (Dense)                (None, 64)                36928     \n",
      "_________________________________________________________________\n",
      "dense_1 (Dense)              (None, 10)                650       \n",
      "=================================================================\n",
      "Total params: 93,322\n",
      "Trainable params: 93,322\n",
      "Non-trainable params: 0\n",
      "_________________________________________________________________\n"
     ]
    }
   ],
   "source": [
    "model.summary()"
   ]
  },
  {
   "cell_type": "markdown",
   "metadata": {},
   "source": [
    "As you can see, our (3, 3, 64) outputs were flattened into vectors of shape (576) before going through two Dense layers."
   ]
  },
  {
   "cell_type": "markdown",
   "metadata": {},
   "source": [
    "## Compile and train the model"
   ]
  },
  {
   "cell_type": "code",
   "execution_count": 9,
   "metadata": {},
   "outputs": [
    {
     "name": "stdout",
     "output_type": "stream",
     "text": [
      "Epoch 1/20\n",
      "60000/60000 [==============================] - 9s 150us/sample - loss: 0.0175 - accuracy: 0.9946\n",
      "Epoch 2/20\n",
      "60000/60000 [==============================] - 9s 146us/sample - loss: 0.0138 - accuracy: 0.9957\n",
      "Epoch 3/20\n",
      "60000/60000 [==============================] - 9s 146us/sample - loss: 0.0115 - accuracy: 0.9964\n",
      "Epoch 4/20\n",
      "60000/60000 [==============================] - 9s 143us/sample - loss: 0.0101 - accuracy: 0.9966\n",
      "Epoch 5/20\n",
      "60000/60000 [==============================] - 9s 147us/sample - loss: 0.0088 - accuracy: 0.9970\n",
      "Epoch 6/20\n",
      "60000/60000 [==============================] - 9s 143us/sample - loss: 0.0078 - accuracy: 0.9977\n",
      "Epoch 7/20\n",
      "60000/60000 [==============================] - 9s 142us/sample - loss: 0.0073 - accuracy: 0.9978\n",
      "Epoch 8/20\n",
      "60000/60000 [==============================] - 9s 146us/sample - loss: 0.0066 - accuracy: 0.9979\n",
      "Epoch 9/20\n",
      "60000/60000 [==============================] - 9s 150us/sample - loss: 0.0080 - accuracy: 0.9974\n",
      "Epoch 10/20\n",
      "60000/60000 [==============================] - 9s 144us/sample - loss: 0.0066 - accuracy: 0.9979\n",
      "Epoch 11/20\n",
      "60000/60000 [==============================] - 8s 140us/sample - loss: 0.0044 - accuracy: 0.9984\n",
      "Epoch 12/20\n",
      "60000/60000 [==============================] - 8s 141us/sample - loss: 0.0061 - accuracy: 0.9981\n",
      "Epoch 13/20\n",
      "60000/60000 [==============================] - 9s 142us/sample - loss: 0.0046 - accuracy: 0.9985\n",
      "Epoch 14/20\n",
      "60000/60000 [==============================] - 9s 144us/sample - loss: 0.0049 - accuracy: 0.9984\n",
      "Epoch 15/20\n",
      "60000/60000 [==============================] - 9s 143us/sample - loss: 0.0065 - accuracy: 0.9980\n",
      "Epoch 16/20\n",
      "60000/60000 [==============================] - 9s 145us/sample - loss: 0.0044 - accuracy: 0.9987\n",
      "Epoch 17/20\n",
      "60000/60000 [==============================] - 9s 146us/sample - loss: 0.0047 - accuracy: 0.9988\n",
      "Epoch 18/20\n",
      "60000/60000 [==============================] - 9s 144us/sample - loss: 0.0052 - accuracy: 0.9985\n",
      "Epoch 19/20\n",
      "60000/60000 [==============================] - 9s 144us/sample - loss: 0.0045 - accuracy: 0.9987\n",
      "Epoch 20/20\n",
      "60000/60000 [==============================] - 9s 142us/sample - loss: 0.0058 - accuracy: 0.9985\n"
     ]
    },
    {
     "data": {
      "text/plain": [
       "<tensorflow.python.keras.callbacks.History at 0x1bf6d106d68>"
      ]
     },
     "execution_count": 9,
     "metadata": {},
     "output_type": "execute_result"
    }
   ],
   "source": [
    "model.compile(optimizer='adam',\n",
    "              loss='sparse_categorical_crossentropy',\n",
    "              metrics=['accuracy'])\n",
    "\n",
    "model.fit(train_images, train_labels, epochs=20)"
   ]
  },
  {
   "cell_type": "markdown",
   "metadata": {},
   "source": [
    "## Evaluate the model"
   ]
  },
  {
   "cell_type": "code",
   "execution_count": 10,
   "metadata": {},
   "outputs": [
    {
     "name": "stdout",
     "output_type": "stream",
     "text": [
      "10000/10000 [==============================] - 1s 72us/sample - loss: 0.0585 - accuracy: 0.9930\n",
      "0.993\n"
     ]
    }
   ],
   "source": [
    "test_loss, test_acc = model.evaluate(test_images, test_labels)\n",
    "\n",
    "print(test_acc)"
   ]
  },
  {
   "cell_type": "code",
   "execution_count": null,
   "metadata": {},
   "outputs": [],
   "source": []
  }
 ],
 "metadata": {
  "kernelspec": {
   "display_name": "Python 3",
   "language": "python",
   "name": "python3"
  },
  "language_info": {
   "codemirror_mode": {
    "name": "ipython",
    "version": 3
   },
   "file_extension": ".py",
   "mimetype": "text/x-python",
   "name": "python",
   "nbconvert_exporter": "python",
   "pygments_lexer": "ipython3",
   "version": "3.6.8"
  }
 },
 "nbformat": 4,
 "nbformat_minor": 2
}
